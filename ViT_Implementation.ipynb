{
  "nbformat": 4,
  "nbformat_minor": 0,
  "metadata": {
    "colab": {
      "provenance": [],
      "gpuType": "T4",
      "include_colab_link": true
    },
    "kernelspec": {
      "name": "python3",
      "display_name": "Python 3"
    },
    "language_info": {
      "name": "python"
    },
    "accelerator": "GPU"
  },
  "cells": [
    {
      "cell_type": "markdown",
      "metadata": {
        "id": "view-in-github",
        "colab_type": "text"
      },
      "source": [
        "<a href=\"https://colab.research.google.com/github/matchamilkers/Landscape-Image-Classification/blob/main/ViT_Implementation.ipynb\" target=\"_parent\"><img src=\"https://colab.research.google.com/assets/colab-badge.svg\" alt=\"Open In Colab\"/></a>"
      ]
    },
    {
      "cell_type": "markdown",
      "source": [
        "**ViT IMPLEMENTATION:**\n",
        "\n",
        "dataset used:\n",
        "https://www.kaggle.com/datasets/utkarshsaxenadn/landscape-recognition-image-dataset-12k-images/data\n",
        "\n",
        "original implementation article:\n",
        "https://ieeexplore.ieee.org/document/9821015"
      ],
      "metadata": {
        "id": "DSnRL2NZv6GS"
      }
    },
    {
      "cell_type": "code",
      "source": [
        "# Common\n",
        "import os\n",
        "import numpy as np\n",
        "import pandas as pd\n",
        "import tensorflow as tf\n",
        "\n",
        "# Data Loading\n",
        "# from google.colab import drive\n",
        "import zipfile\n",
        "import io\n",
        "import os\n",
        "from tensorflow import data as tfd\n",
        "from tensorflow import image as tfi\n",
        "from tensorflow.python.framework import tensor_util\n",
        "from tensorflow.python.lib.io import tf_record\n",
        "from sklearn.metrics import classification_report\n",
        "\n",
        "# Data Visualization\n",
        "import matplotlib.pyplot as plt"
      ],
      "metadata": {
        "id": "SoIo9LVoOYfm"
      },
      "execution_count": null,
      "outputs": []
    },
    {
      "cell_type": "code",
      "source": [
        "# Mount Google Drive\n",
        "drive.mount('/content/drive')\n",
        "\n",
        "# Set the original Drive path\n",
        "base_path = \"/content/drive/My Drive/Colab Notebooks/Datasets/Landscape Dataset/\"\n",
        "zip_path = os.path.join(base_path, \"landscape_dataset.zip\")\n",
        "\n",
        "# Unzip into Colab's local filesystem (/content/)\n",
        "with zipfile.ZipFile(zip_path, 'r') as zip_ref:\n",
        "    zip_ref.extractall(\"/content/landscape_dataset\")\n",
        "\n",
        "# Define the local base path\n",
        "local_base_path = \"/content/landscape_dataset/Landscape Classification/\"\n",
        "\n",
        "# Define Train, Validation, and Test paths\n",
        "train_path = os.path.join(local_base_path, \"Landscape Classification/Training Data/\")\n",
        "valid_path = os.path.join(local_base_path, \"Landscape Classification/Validation Data/\")\n",
        "test_path  = os.path.join(local_base_path, \"Landscape Classification/Testing Data/\")\n",
        "\n",
        "# Print the paths\n",
        "print(f\"Train Path: {train_path}\")\n",
        "print(f\"Valid Path: {valid_path}\")\n",
        "print(f\"Test Path: {test_path}\")"
      ],
      "metadata": {
        "id": "VWuSCx6yOq7p",
        "colab": {
          "base_uri": "https://localhost:8080/"
        },
        "outputId": "187e7ed4-3541-4b36-9dc7-25b0b3762df1"
      },
      "execution_count": null,
      "outputs": [
        {
          "output_type": "stream",
          "name": "stdout",
          "text": [
            "Drive already mounted at /content/drive; to attempt to forcibly remount, call drive.mount(\"/content/drive\", force_remount=True).\n",
            "Train Path: /content/landscape_dataset/Landscape Classification/Landscape Classification/Training Data/\n",
            "Valid Path: /content/landscape_dataset/Landscape Classification/Landscape Classification/Validation Data/\n",
            "Test Path: /content/landscape_dataset/Landscape Classification/Landscape Classification/Testing Data/\n"
          ]
        }
      ],
      "metadata": {
        "id": "RA9WUndV0KFq"
      },
      "execution_count": null,
      "outputs": []
    },
    {
      "cell_type": "code",
      "source": [
        "# Checking Class Names and Number\n",
        "class_names = sorted(os.listdir(train_path))\n",
        "n_classes = len(class_names)\n",
        "\n",
        "print(f\"Number of Classes : {n_classes}\\nClass names : {class_names}\")"
      ],
      "metadata": {
        "colab": {
          "base_uri": "https://localhost:8080/"
        },
        "id": "399UruTLOiQv",
        "outputId": "a1f26a73-45dd-4190-ee56-e01175935c5b"
      },
      "execution_count": null,
      "outputs": [
        {
          "output_type": "stream",
          "name": "stdout",
          "text": [
            "Number of Classes : 5\n",
            "Class names : ['Coast', 'Desert', 'Forest', 'Glacier', 'Mountain']\n"
          ]
        }
      ]
    },
    {
      "cell_type": "markdown",
      "source": [
        "# **Loading Data**\n",
        "!! Im implementing the data in the TFRecords Folder !!!\n",
        "its the same images but stored in binary files so its faster for larger datasets like this  \n",
        "this example shows it well:\n",
        "https://www.kaggle.com/code/utkarshsaxenadn/landscape-recognition-big-transfer-acc-91/notebook"
      ],
      "metadata": {
        "id": "nNqQ3oUFyNtn"
      }
    },
    {
      "cell_type": "code",
      "source": [
        "# Listing TFRecords Data Paths -- Kierans Version\n",
        "base_path = \"landscape_dataset/Landscape Classification/Landscape Classification/TFrecords/\"\n",
        "tfr_train_path = os.path.join(base_path, \"Train/\")\n",
        "tfr_valid_path = os.path.join(base_path, \"Valid/\")\n",
        "tfr_test_path  = os.path.join(base_path, \"Test/\")"
      ],
      "metadata": {
        "id": "LZKPyP182m9s"
      },
      "execution_count": null,
      "outputs": []
    },
    {
      "cell_type": "code",
      "source": [
        "# Config\n",
        "BATCH_SIZE = 32"
      ],
      "metadata": {
        "id": "s4hcvGo4XkRw"
      },
      "execution_count": null,
      "outputs": []
    },
    {
      "cell_type": "code",
      "source": [
        "import tensorflow as tf\n",
        "import torch\n",
        "from torch.utils.data import IterableDataset\n",
        "import numpy as np\n",
        "import glob\n",
        "\n",
        "# TFRecord feature schema\n",
        "feature_description = {\n",
        "    'image': tf.io.FixedLenFeature([], tf.string),\n",
        "    'label': tf.io.FixedLenFeature([], tf.int64),\n",
        "}\n",
        "\n",
        "def parse_example(serialized_example):\n",
        "    example = tf.io.parse_single_example(serialized_example, feature_description)\n",
        "    image = tf.image.decode_jpeg(example['image'], channels=3)\n",
        "    image = tf.image.resize(image, (224, 224))\n",
        "    image = tf.cast(image, tf.float32) / 255.0\n",
        "    return image, example['label']\n",
        "\n",
        "def augment_image(image):\n",
        "    \"\"\"Apply augmentations using TensorFlow operations\"\"\"\n",
        "    # Make sure all operations run on CPU to avoid CUDA context issues\n",
        "    with tf.device('/CPU:0'):\n",
        "        image = tf.image.random_flip_left_right(image)\n",
        "        image = tf.image.random_brightness(image, max_delta=0.1)\n",
        "        image = tf.image.random_contrast(image, lower=0.8, upper=1.2)\n",
        "        image = tf.image.random_saturation(image, lower=0.8, upper=1.2)\n",
        "    return image\n",
        "\n",
        "class TFRecordTorchDataset(IterableDataset):\n",
        "    def __init__(self, tfrecord_path, augment_times=0):\n",
        "        super().__init__()\n",
        "        self.tfrecord_path = tfrecord_path\n",
        "        self.augment_times = augment_times\n",
        "\n",
        "    def __iter__(self):\n",
        "        tfrecord_files = glob.glob(self.tfrecord_path + \"*.tfrecord\")\n",
        "\n",
        "        # Force TensorFlow operations to run on CPU\n",
        "        with tf.device('/CPU:0'):\n",
        "            dataset = tf.data.TFRecordDataset(tfrecord_files)\n",
        "            dataset = dataset.shuffle(buffer_size=1000)\n",
        "            dataset = dataset.map(parse_example)\n",
        "\n",
        "            for image, label in dataset:\n",
        "                # Force all tensor operations to complete before numpy conversion\n",
        "                image_np = image.numpy()  # Converts TF tensor to NumPy array on CPU\n",
        "                label_np = label.numpy()\n",
        "\n",
        "                # Convert to PyTorch tensors\n",
        "                torch_image = torch.tensor(image_np, dtype=torch.float32).permute(2, 0, 1)  # HWC -> CHW\n",
        "                torch_label = torch.tensor(label_np, dtype=torch.long)\n",
        "\n",
        "                # Yield original image\n",
        "                yield torch_image, torch_label\n",
        "\n",
        "                # Handle augmentations with explicit CPU operations\n",
        "                for _ in range(self.augment_times):\n",
        "                    # Apply augmentation on CPU\n",
        "                    with tf.device('/CPU:0'):\n",
        "                        aug_image = augment_image(image)\n",
        "                        aug_image_np = aug_image.numpy()\n",
        "\n",
        "                    # Convert augmented image to PyTorch tensor\n",
        "                    torch_aug_image = torch.tensor(aug_image_np, dtype=torch.float32).permute(2, 0, 1)\n",
        "                    yield torch_aug_image, torch_label"
      ],
      "metadata": {
        "id": "-cU-DGQJfv1X"
      },
      "execution_count": null,
      "outputs": []
    },
    {
      "cell_type": "code",
      "source": [
        "train_split = TFRecordTorchDataset(tfr_train_path, augment_times=2)\n",
        "train_loader = torch.utils.data.DataLoader(train_split, batch_size=32)\n",
        "\n",
        "val_split = TFRecordTorchDataset(tfr_valid_path)\n",
        "val_loader = torch.utils.data.DataLoader(val_split, batch_size=32)\n",
        "\n",
        "test_split = TFRecordTorchDataset(tfr_test_path)\n",
        "test_loader = torch.utils.data.DataLoader(test_split, batch_size=32)"
      ],
      "metadata": {
        "id": "hMYZ4KPDiMa5"
      },
      "execution_count": null,
      "outputs": []
    },
      "metadata": {
        "id": "YWEZkdFRsc5K"
      }
    },
    {
      "cell_type": "markdown",
      "source": [
        "# Define Model -- Vision Transformer"
      ],
      "metadata": {
        "id": "N3AVzrmxpwDU"
      }
    },
    {
      "cell_type": "code",
      "source": [
        "from transformers import ViTForImageClassification\n",
        "import torch.nn as nn\n",
        "\n",
        "\n",
        "vit_backbone = ViTForImageClassification.from_pretrained(\n",
        "    \"google/vit-base-patch16-224-in21k\",\n",
        "    num_labels=5\n",
        ")\n",
        "\n",
        "for param in vit_backbone.vit.parameters():\n",
        "    param.requires_grad = False\n",
        "\n",
        "class ViTWithCustomHead(nn.Module):\n",
        "    def __init__(self, vit_model, num_classes=5):\n",
        "        super(ViTWithCustomHead, self).__init__()\n",
        "        self.vit = vit_model\n",
        "        self.classifier = nn.Sequential(\n",
        "            nn.Linear(self.vit.config.hidden_size, num_classes),\n",
        "        )\n",
        "        self.vit.classifier = self.classifier\n",
        "\n",
        "    def forward(self, pixel_values):\n",
        "      outputs = self.vit(pixel_values=pixel_values)\n",
        "      logits = outputs.logits\n",
        "      return logits"
      ],
      "metadata": {
        "id": "d_o00hjxRwPY",
        "colab": {
          "base_uri": "https://localhost:8080/"
        },
        "outputId": "75b9d6f3-cddb-43cf-e1e1-22d211b566ad"
      },
      "execution_count": null,
      "outputs": [
        {
          "output_type": "stream",
          "name": "stderr",
          "text": [
            "Some weights of ViTForImageClassification were not initialized from the model checkpoint at google/vit-base-patch16-224-in21k and are newly initialized: ['classifier.bias', 'classifier.weight']\n",
            "You should probably TRAIN this model on a down-stream task to be able to use it for predictions and inference.\n"
          ]
        }
      ]
    },
    {
      "cell_type": "code",
      "source": [
        "# Load the checkpoint if you want to continue training from there or evaluate on the test set\n",
        "use_checkpoint = True\n",
        "google_drive = False\n",
        "\n",
        "checkpoint_name = \"vit_checkpoint_30.pt\"\n",
        "\n",
        "if google_drive:\n",
        "    checkpoint_path = \"/content/drive/My Drive\" # Checkpoint is in Google Drive\n",
        "else:\n",
        "    checkpoint_path = \"\" # Checkpoint is local"
      ],
      "metadata": {
        "id": "j7m44MMrnJvq"
      },
      "execution_count": null,
      "outputs": []
    },
    {
      "cell_type": "code",
      "source": [
        "def load_checkpoint(model, optimizer, filename):\n",
        "    full_path = os.path.join(checkpoint_path, filename)\n",
        "    checkpoint = torch.load(full_path)\n",
        "    model.load_state_dict(checkpoint['model_state_dict'])\n",
        "    optimizer.load_state_dict(checkpoint['optimizer_state_dict'])\n",
        "    epoch = checkpoint['epoch']\n",
        "    loss = checkpoint['loss']\n",
        "    print(f\"Checkpoint loaded from epoch {epoch}\")\n",
        "    return epoch, loss"
      ],
      "metadata": {
        "id": "2boztpNDhPLA"
      },
      "execution_count": null,
      "outputs": []
    },
    {
      "cell_type": "code",
      "source": [
        "device = torch.device(\"cuda\" if torch.cuda.is_available() else \"cpu\")\n",
        "print(device)\n",
        "\n",
        "model = ViTWithCustomHead(vit_backbone).to(device)\n",
        "criterion = nn.CrossEntropyLoss()\n",
        "optimizer = torch.optim.Adam(model.parameters(), lr=1e-4)\n",
        "\n",
        "if use_checkpoint:\n",
        "    epoch, loss = load_checkpoint(model, optimizer, checkpoint_name)"
      ],
      "metadata": {
        "id": "EirSxKU7nx6s",
        "colab": {
          "base_uri": "https://localhost:8080/"
        },
        "outputId": "443483e3-045f-4e9c-c6e8-57aff74a3436"
      },
      "execution_count": null,
      "outputs": [
        {
          "output_type": "stream",
          "name": "stdout",
          "text": [
            "cuda\n",
            "Checkpoint loaded from epoch 19\n"
          ]
        }
      ]
    },
    {
      "cell_type": "code",
      "source": [
        "def save_checkpoint(model, optimizer, epoch, loss, filename):\n",
        "    full_path = os.path.join(checkpoint_path, filename)\n",
        "    checkpoint = {\n",
        "        'epoch': epoch,\n",
        "        'model_state_dict': model.state_dict(),\n",
        "        'optimizer_state_dict': optimizer.state_dict(),\n",
        "        'loss': loss,\n",
        "    }\n",
        "    torch.save(checkpoint, full_path)\n",
        "    print(f\"Checkpoint saved to {full_path}\")"
      ],
      "metadata": {
        "id": "Po7t2AQlfcOF"
      },
      "execution_count": null,
      "outputs": []
    },
    {
      "cell_type": "code",
      "source": [
        "from tqdm.notebook import tqdm\n",
        "import torch\n",
        "import torch.nn as nn\n",
        "import matplotlib.pyplot as plt\n",
        "import IPython.display as display\n",
        "\n",
        "\n",
        "num_epochs = 10\n",
        "total_epochs = num_epochs\n",
        "if use_checkpoint:\n",
        "    total_epochs += epoch + 1\n",
        "else:\n",
        "    epoch = 0\n",
        "epoch_range = range(epoch, total_epochs)\n",
        "\n",
        "print(f\"Training from epoch {epoch+1}...\")\n",
        "\n",
        "train_examples = 30000\n",
        "total_steps = train_examples // BATCH_SIZE\n",
        "\n",
        "# Lists to store losses for plotting\n",
        "epoch_losses = []\n",
        "step_losses = []\n",
        "\n",
        "# Define a function to plot the loss curve\n",
        "def plot_epoch_loss(epoch, step_losses):\n",
        "    # Clear the display and create a new figure\n",
        "    display.clear_output(wait=True)\n",
        "\n",
        "    # Plot loss curve for this epoch\n",
        "    plt.figure(figsize=(10, 6))\n",
        "    plt.plot(step_losses, 'b-')\n",
        "    plt.title(f'Epoch {epoch+1} - Train Loss per Step')\n",
        "    plt.xlabel('Step')\n",
        "    plt.ylabel('Loss')\n",
        "    plt.grid(True)\n",
        "    plt.tight_layout()\n",
        "    plt.show()\n",
        "\n",
        "# Set model to train mode\n",
        "model.train()\n",
        "\n",
        "for epoch in epoch_range:\n",
        "    running_loss = 0.0\n",
        "    epoch_step_losses = []  # Track losses within this epoch\n",
        "\n",
        "    # Setup tqdm progress bar\n",
        "    loop = tqdm(train_loader, desc=f\"Epoch [{epoch+1}/{total_epochs}]\", leave=True, total=total_steps)\n",
        "\n",
        "    for i, (images, labels) in enumerate(loop):\n",
        "        images = images.to(device)\n",
        "        labels = labels.to(device)\n",
        "\n",
        "        optimizer.zero_grad()\n",
        "        logits = model(pixel_values=images)\n",
        "        loss = criterion(logits, labels)\n",
        "        loss.backward()\n",
        "        optimizer.step()\n",
        "\n",
        "        # Track loss\n",
        "        current_loss = loss.item()\n",
        "        running_loss += current_loss\n",
        "        epoch_step_losses.append(current_loss)\n",
        "        step_losses.append(current_loss)\n",
        "\n",
        "        # Update the progress bar\n",
        "        loop.set_postfix(loss=current_loss)\n",
        "\n",
        "    # Store the average loss for this epoch\n",
        "    avg_loss = running_loss / total_steps\n",
        "    epoch_losses.append(avg_loss)\n",
        "    print(f\"Epoch [{epoch+1}/{num_epochs}] - Average Loss: {avg_loss:.4f}\")\n",
        "\n",
        "    # Plot loss curve at the end of the epoch\n",
        "    plot_epoch_loss(epoch, epoch_step_losses)\n",
        "\n",
        "    if epoch % 10 == 9:\n",
        "         save_checkpoint(model, optimizer, epoch, avg_loss, filename=f'vit_checkpoint_{epoch + 1}.pt')"
      ],
      "metadata": {
        "colab": {
          "base_uri": "https://localhost:8080/",
          "height": 272,
          "referenced_widgets": [
            "7ad3459017154bce85b6d3b61eab80d7",
            "76bed05a8028492d9b68c982e1afe996",
            "929d2e2255304006b8b9341aa895989b",
            "b36a3cd868614a26bba1037b97bbb3a7",
            "c9bf9bed5d53485da9ab6fc460e364cf",
            "12ec997b403645da92acf3718e79f3eb",
            "4032f7b1b9e848b9879e61bfbcf26078",
            "775c580fe7984a2086187ab17b0b6fcc",
            "d85109f80d1e48f8a97b27a1964fa2c8",
            "bbd8cbfe57c44c3e987420ef216cb612",
            "c6836dee89d94b8dad3543aa7a8f7ed5"
          ]
        },
        "id": "PgS5rjOih-RR",
        "outputId": "1a0b3a1e-d5f8-4f5d-8aac-ea4f20aa7e76"
      },
      "execution_count": null,
      "outputs": [
        {
          "output_type": "stream",
          "name": "stdout",
          "text": [
            "Training from epoch 20\n"
          ]
        },
        {
          "output_type": "display_data",
          "data": {
            "text/plain": [
              "Epoch [20/29]:   0%|          | 0/15 [00:00<?, ?it/s]"
            ],
            "application/vnd.jupyter.widget-view+json": {
              "version_major": 2,
              "version_minor": 0,
              "model_id": "7ad3459017154bce85b6d3b61eab80d7"
            }
          },
          "metadata": {}
        },
        {
          "output_type": "error",
          "ename": "KeyboardInterrupt",
          "evalue": "",
          "traceback": [
            "\u001b[0;31m---------------------------------------------------------------------------\u001b[0m",
            "\u001b[0;31mKeyboardInterrupt\u001b[0m                         Traceback (most recent call last)",
            "\u001b[0;32m<ipython-input-62-8aaa4e6c77d4>\u001b[0m in \u001b[0;36m<cell line: 0>\u001b[0;34m()\u001b[0m\n\u001b[1;32m     57\u001b[0m \u001b[0;34m\u001b[0m\u001b[0m\n\u001b[1;32m     58\u001b[0m         \u001b[0;31m# Track loss\u001b[0m\u001b[0;34m\u001b[0m\u001b[0;34m\u001b[0m\u001b[0m\n\u001b[0;32m---> 59\u001b[0;31m         \u001b[0mcurrent_loss\u001b[0m \u001b[0;34m=\u001b[0m \u001b[0mloss\u001b[0m\u001b[0;34m.\u001b[0m\u001b[0mitem\u001b[0m\u001b[0;34m(\u001b[0m\u001b[0;34m)\u001b[0m\u001b[0;34m\u001b[0m\u001b[0;34m\u001b[0m\u001b[0m\n\u001b[0m\u001b[1;32m     60\u001b[0m         \u001b[0mrunning_loss\u001b[0m \u001b[0;34m+=\u001b[0m \u001b[0mcurrent_loss\u001b[0m\u001b[0;34m\u001b[0m\u001b[0;34m\u001b[0m\u001b[0m\n\u001b[1;32m     61\u001b[0m         \u001b[0mepoch_step_losses\u001b[0m\u001b[0;34m.\u001b[0m\u001b[0mappend\u001b[0m\u001b[0;34m(\u001b[0m\u001b[0mcurrent_loss\u001b[0m\u001b[0;34m)\u001b[0m\u001b[0;34m\u001b[0m\u001b[0;34m\u001b[0m\u001b[0m\n",
            "\u001b[0;31mKeyboardInterrupt\u001b[0m: "
          ]
        }
      ]
    },
    {
      "cell_type": "markdown",
      "source": [
        "# Test/Evaluate Performance"
      ],
      "metadata": {
        "id": "dRM6F2_GsK03"
      }
    },
    {
      "cell_type": "code",
      "source": [
        "import torch\n",
        "import matplotlib.pyplot as plt\n",
        "import seaborn as sns\n",
        "from sklearn.metrics import confusion_matrix, accuracy_score\n",
        "from tqdm.notebook import tqdm\n",
        "\n",
        "\n",
        "device = torch.device(\"cuda\" if torch.cuda.is_available() else \"cpu\")\n",
        "print(device)\n",
        "if not use_checkpoint:\n",
        "    epoch = 0\n",
        "\n",
        "print(f\"Evaluating from epoch {epoch+1}...\")\n",
        "\n",
        "# Initialize lists to store predictions and true labels\n",
        "all_preds = []\n",
        "all_labels = []\n",
        "\n",
        "eval_examples = 500\n",
        "total_steps = eval_examples // BATCH_SIZE\n",
        "\n",
        "# Set model to evaluation mode\n",
        "model.eval()\n",
        "\n",
        "# Evaluate the model on the test set\n",
        "with torch.no_grad():  # No need to compute gradients for evaluation\n",
        "    loop = tqdm(test_loader, desc=\"Evaluating on test set\", leave=False, total=total_steps)\n",
        "\n",
        "    for images, labels in loop:\n",
        "        images = images.to(device)\n",
        "        labels = labels.to(device)\n",
        "\n",
        "        # Forward pass\n",
        "        outputs = model(pixel_values=images)\n",
        "        _, preds = torch.max(outputs, 1)  # Get the predicted class\n",
        "\n",
        "        # Store predictions and true labels\n",
        "        all_preds.extend(preds.cpu().numpy())\n",
        "        all_labels.extend(labels.cpu().numpy())\n",
        "\n",
        "# Compute test accuracy\n",
        "test_accuracy = accuracy_score(all_labels, all_preds)\n",
        "print(f\"\\nTest Accuracy: {test_accuracy * 100:.2f}%\")\n",
        "\n",
        "print(\"\\nClassification Report:\")\n",
        "print(classification_report(all_labels, all_preds, target_names=class_names, zero_division=0))\n",
        "\n",
        "# Compute and plot confusion matrix\n",
        "cm = confusion_matrix(all_labels, all_preds)\n",
        "\n",
        "plt.figure(figsize=(8, 6))\n",
        "sns.heatmap(cm, annot=True, fmt=\"d\", cmap=\"rocket\", xticklabels=[str(i) for i in range(5)], yticklabels=[str(i) for i in range(5)])\n",
        "plt.title(\"Confusion Matrix\")\n",
        "plt.xlabel(\"Predicted Label\")\n",
        "plt.ylabel(\"True Label\")\n",
        "plt.show()"
      ],
      "metadata": {
        "id": "hR2A77S8sbo7",
        "colab": {
          "base_uri": "https://localhost:8080/",
          "height": 638,
          "referenced_widgets": [
            "a5c96cf2e23343b48c2bc6af43f1e56c",
            "5b8101e6649d422198a2611532e7331f",
            "98eebdc877bc4e609e4d887d97d344d7",
            "67f989c8047f436788599360a7fffa5c",
            "28b623fa751648968ab6b015777db1f7",
            "4d13af35892c4e25bee92003bf7f4c8b",
            "5c4ad9fa8a3540538709aecd8d3ffda3",
            "5d348f4b4f37441cbe890d412c2c4877",
            "20da4a0c3a5f460c8526861bd93b01fe",
            "3adfa44eb28849da9a739445c0e8e886",
            "7c3abcc280554c328174852f074da152"
          ]
        },
        "outputId": "c7fbece1-bf87-4ebf-ad0e-c1fc47482e62"
      },
      "execution_count": null,
      "outputs": [
        {
          "output_type": "stream",
          "name": "stdout",
          "text": [
            "cuda\n",
            "Evaluating from epoch 20...\n"
          ]
        },
        {
          "output_type": "display_data",
          "data": {
            "text/plain": [
              "Evaluating on test set:   0%|          | 0/15 [00:00<?, ?it/s]"
            ],
            "application/vnd.jupyter.widget-view+json": {
              "version_major": 2,
              "version_minor": 0,
              "model_id": "a5c96cf2e23343b48c2bc6af43f1e56c"
            }
          },
          "metadata": {}
        },
        {
          "output_type": "stream",
          "name": "stdout",
          "text": [
            "\n",
            "Test Accuracy: 95.40%\n"
          ]
        },
        {
          "output_type": "display_data",
          "data": {
            "text/plain": [
              "<Figure size 800x600 with 2 Axes>"
            ],
            "image/png": "iVBORw0KGgoAAAANSUhEUgAAAoAAAAIjCAYAAACTRapjAAAAOnRFWHRTb2Z0d2FyZQBNYXRwbG90bGliIHZlcnNpb24zLjEwLjAsIGh0dHBzOi8vbWF0cGxvdGxpYi5vcmcvlHJYcgAAAAlwSFlzAAAPYQAAD2EBqD+naQAATz1JREFUeJzt3XlcVPX+x/H3gDAgAi4gaG6kZpopbhW5L2ll5VKZLTdcWlQ0DbXy5p6JaaLlWpZLXm1PbdXc0swdQ83MtCytBFwSFWVE5vz+qObXhAsYwxnnvJ73cR6P5nvOnPMezqU+fM73nLEZhmEIAAAAluFndgAAAAAULQpAAAAAi6EABAAAsBgKQAAAAIuhAAQAALAYCkAAAACLoQAEAACwGApAAAAAi6EABAAAsBgKQAAXtXfvXrVt21bh4eGy2WxavHhxoe7/p59+ks1m09y5cwt1v1eyFi1aqEWLFmbHAODDKACBK8APP/ygxx9/XFdffbWCgoIUFhamxo0b66WXXtKZM2c8euz4+Hjt3LlTzz//vObPn6+GDRt69HhFqVu3brLZbAoLCzvvz3Hv3r2y2Wyy2Wx68cUXC7z/3377TSNHjlRqamohpAWAwlPM7AAALu6TTz7RvffeK7vdrocffli1a9fW2bNntW7dOg0ePFi7du3Sq6++6pFjnzlzRhs2bNCzzz6rvn37euQYlStX1pkzZxQQEOCR/V9KsWLFdPr0aX300Ufq0qWL27oFCxYoKChI2dnZl7Xv3377TaNGjVKVKlUUGxub7/d9/vnnl3U8AMgvCkDAi+3fv19du3ZV5cqVtWrVKpUrV861LiEhQfv27dMnn3ziseMfPnxYklSyZEmPHcNmsykoKMhj+78Uu92uxo0b680338xTAC5cuFDt27fX+++/XyRZTp8+reLFiyswMLBIjgfAurgEDHix8ePH69SpU3r99dfdir+/VKtWTf3793e9PnfunJ577jlVrVpVdrtdVapU0X//+185HA6391WpUkV33HGH1q1bpxtuuEFBQUG6+uqr9cYbb7i2GTlypCpXrixJGjx4sGw2m6pUqSLpj0unf/3z340cOVI2m81tbPny5WrSpIlKliypEiVKqEaNGvrvf//rWn+hOYCrVq1S06ZNFRISopIlS6pDhw7avXv3eY+3b98+devWTSVLllR4eLi6d++u06dPX/gH+w8PPPCAPvvsMx0/ftw1tmXLFu3du1cPPPBAnu2PHTumQYMG6frrr1eJEiUUFham2267Tdu3b3dt88UXX6hRo0aSpO7du7suJf/1OVu0aKHatWsrJSVFzZo1U/HixV0/l3/OAYyPj1dQUFCez9+uXTuVKlVKv/32W74/KwBIFICAV/voo4909dVX6+abb87X9o888oiGDx+u+vXra9KkSWrevLmSkpLUtWvXPNvu27dP99xzj2655RZNnDhRpUqVUrdu3bRr1y5JUufOnTVp0iRJ0v3336/58+dr8uTJBcq/a9cu3XHHHXI4HBo9erQmTpyou+66S1999dVF37dixQq1a9dOGRkZGjlypBITE7V+/Xo1btxYP/30U57tu3TpopMnTyopKUldunTR3LlzNWrUqHzn7Ny5s2w2mz744APX2MKFC3Xttdeqfv36ebb/8ccftXjxYt1xxx1KTk7W4MGDtXPnTjVv3txVjNWsWVOjR4+WJD322GOaP3++5s+fr2bNmrn2c/ToUd12222KjY3V5MmT1bJly/Pme+mllxQZGan4+Hjl5uZKkl555RV9/vnnmjJlisqXL5/vzwoAkiQDgFfKzMw0JBkdOnTI1/apqamGJOORRx5xGx80aJAhyVi1apVrrHLlyoYkY+3ata6xjIwMw263GwMHDnSN7d+/35BkTJgwwW2f8fHxRuXKlfNkGDFihPH3f61MmjTJkGQcPnz4grn/OsacOXNcY7GxsUbZsmWNo0ePusa2b99u+Pn5GQ8//HCe4/Xo0cNtn506dTLKlClzwWP+/XOEhIQYhmEY99xzj9G6dWvDMAwjNzfXiI6ONkaNGnXen0F2draRm5ub53PY7XZj9OjRrrEtW7bk+Wx/ad68uSHJmDlz5nnXNW/e3G1s2bJlhiRjzJgxxo8//miUKFHC6Nix4yU/IwCcDx1AwEudOHFCkhQaGpqv7T/99FNJUmJiotv4wIEDJSnPXMFatWqpadOmrteRkZGqUaOGfvzxx8vO/E9/zR1csmSJnE5nvt5z6NAhpaamqlu3bipdurRrvE6dOrrllltcn/PvevXq5fa6adOmOnr0qOtnmB8PPPCAvvjiC6WlpWnVqlVKS0s77+Vf6Y95g35+f/zrMzc3V0ePHnVd3t62bVu+j2m329W9e/d8bdu2bVs9/vjjGj16tDp37qygoCC98sor+T4WAPwdBSDgpcLCwiRJJ0+ezNf2P//8s/z8/FStWjW38ejoaJUsWVI///yz23ilSpXy7KNUqVL6/fffLzNxXvfdd58aN26sRx55RFFRUerataveeeedixaDf+WsUaNGnnU1a9bUkSNHlJWV5Tb+z89SqlQpSSrQZ7n99tsVGhqqt99+WwsWLFCjRo3y/Cz/4nQ6NWnSJFWvXl12u10RERGKjIzUjh07lJmZme9jXnXVVQW64ePFF19U6dKllZqaqpdffllly5bN93sB4O8oAAEvFRYWpvLly+ubb74p0Pv+eRPGhfj7+5933DCMyz7GX/PT/hIcHKy1a9dqxYoV+s9//qMdO3bovvvu0y233JJn23/j33yWv9jtdnXu3Fnz5s3TokWLLtj9k6SxY8cqMTFRzZo10//+9z8tW7ZMy5cv13XXXZfvTqf0x8+nIL7++mtlZGRIknbu3Fmg9wLA31EAAl7sjjvu0A8//KANGzZcctvKlSvL6XRq7969buPp6ek6fvy4647ewlCqVCm3O2b/8s8uoyT5+fmpdevWSk5O1rfffqvnn39eq1at0urVq8+7779y7tmzJ8+67777ThEREQoJCfl3H+ACHnjgAX399dc6efLkeW+c+ct7772nli1b6vXXX1fXrl3Vtm1btWnTJs/PJL/FeH5kZWWpe/fuqlWrlh577DGNHz9eW7ZsKbT9A7AWCkDAiz311FMKCQnRI488ovT09Dzrf/jhB7300kuS/riEKSnPnbrJycmSpPbt2xdarqpVqyozM1M7duxwjR06dEiLFi1y2+7YsWN53vvXA5H/+Wiav5QrV06xsbGaN2+eW0H1zTff6PPPP3d9Tk9o2bKlnnvuOU2dOlXR0dEX3M7f3z9Pd/Hdd9/Vr7/+6jb2V6F6vmK5oJ5++mkdOHBA8+bNU3JysqpUqaL4+PgL/hwB4GJ4EDTgxapWraqFCxfqvvvuU82aNd2+CWT9+vV699131a1bN0lS3bp1FR8fr1dffVXHjx9X8+bNtXnzZs2bN08dO3a84CNGLkfXrl319NNPq1OnTnriiSd0+vRpzZgxQ9dcc43bTRCjR4/W2rVr1b59e1WuXFkZGRmaPn26KlSooCZNmlxw/xMmTNBtt92muLg49ezZU2fOnNGUKVMUHh6ukSNHFtrn+Cc/Pz8NHTr0ktvdcccdGj16tLp3766bb75ZO3fu1IIFC3T11Ve7bVe1alWVLFlSM2fOVGhoqEJCQnTjjTcqJiamQLlWrVql6dOna8SIEa7H0syZM0ctWrTQsGHDNH78+ALtDwB4DAxwBfj++++NRx991KhSpYoRGBhohIaGGo0bNzamTJliZGdnu7bLyckxRo0aZcTExBgBAQFGxYoVjSFDhrhtYxh/PAamffv2eY7zz8ePXOgxMIZhGJ9//rlRu3ZtIzAw0KhRo4bxv//9L89jYFauXGl06NDBKF++vBEYGGiUL1/euP/++43vv/8+zzH++aiUFStWGI0bNzaCg4ONsLAw48477zS+/fZbt23+Ot4/HzMzZ84cQ5Kxf//+C/5MDcP9MTAXcqHHwAwcONAoV66cERwcbDRu3NjYsGHDeR/fsmTJEqNWrVpGsWLF3D5n8+bNjeuuu+68x/z7fk6cOGFUrlzZqF+/vpGTk+O23ZNPPmn4+fkZGzZsuOhnAIB/shlGAWZJAwAA4IrHHEAAAACLoQAEAACwGApAAAAAi6EABAAAsBgKQAAAAIuhAAQAALAYCkAAAACL8clvAsl1fmF2BPwpoFg7syPgbwzDaXYEALggw8gx7dierB38/Vp4bN+Xiw4gAACAxfhkBxAAAKBAnB68QuKF7TYKQAAAAE8WgF7IC2tSAAAAeBIdQAAAADqAAAAA8GV0AAEAAAzD7ARFig4gAACAxdABBAAAYA4gAAAAfBkdQAAAAIt1ACkAAQAALFYAcgkYAADAYugAAgAA0AEEAACAL6MDCAAAQAcQAAAAvowOIAAAsDybQQcQAAAAPowOIAAAgMXmAFIAAgAAOA2zExQpLgEDAABYDB1AAAAAi10CpgMIAABgMXQAAQAA6AACAADAl9EBBAAA4EHQAAAA8GV0AAEAACw2B5ACEAAAgAdBAwAAwJfRAQQAALDYJWA6gAAAABZDBxAAAIAOIAAAAHwZHUAAAGB5NjqAAAAA8GV0AAEAAAxrPQeQAhAAAIBLwAAAAPBlFIAmy8rKVtLYt9W61RDVi+2rB+5/QTt3/uRaf+TICf13yFw1b/aU6tfrq8cefUk//ZRuXmALadq0iZYs+UC//LJfTqdDHTrcZXYky+vTp7f279+rM2dOauPGr9SoUSOzI1kW58J7cC4KidPpucULUQCabNjQN7R+/W698EJ3LV4yXDc3rqWePSYpPf13GYahfn2n6+DBw5o6rY/e/2CoypUvo549Juv0aYfZ0X1eSEiIduzYob59+5sdBZK6dLlXyckTNGrUGNWvf4O2b9+hZcs+UWRkpNnRLIdz4T04F7hcNsPwvVmPuc4vzI6QL9nZZ9WoYX9NndpHzVtc7xq/5+7n1bTpderQIU633z5cSz4coerVy0uSnE6nmjV9SgMGdNQ99zYxK3q+BRRrZ3aEQuF0OtSp071asuRDs6P8K4bhnX+J5sfGjV9py5at6tfvj4LcZrPp4MH9mjJlml54YYLJ6ayFc+E9fO1cGEaOecfeMc1j+7bVSfDYvi+XqR3AI0eOaPz48erUqZPi4uIUFxenTp06acKECTp8+LCZ0YpEbq5TublOBdrd78UJCgrQtm0/6GzOOUmS3R7gWufn56fAwGLatm1fkWYFzBQQEKAGDeprxYqVrjHDMLRixSrFxd1kYjLr4Vx4D84F/g3TCsAtW7bommuu0csvv6zw8HA1a9ZMzZo1U3h4uF5++WVde+212rp16yX343A4dOLECbfF4ThbBJ/g3wsJCVJs7NWaOeNTZWQcV26uUx9+uFGpqT/q8OFMxcREq1y50po0aZEyM7N09uw5vTZrqdLSftfhw5lmxweKTEREhIoVK6b09Ay38fT0dEVHR5uUypo4F96Dc1HILDYH0LTHwPTr10/33nuvZs6cKZvN5rbOMAz16tVL/fr104YNGy66n6SkJI0aNcptbNjweI0Y0a2wI3vEuBd6aOiz89Si+dPy9/dTrVqVdHv7Rvp21wEFBPjr5Sm9NHToG4q7KVH+/n6Ki7tWTZvWliGfu3IPAACKiGkF4Pbt2zV37tw8xZ/0xxyGJ598UvXq1bvkfoYMGaLExES3sWIBGwstp6dVqhSpN+YP0unTDmWdylZk2XAlPvmqKlSIkCRdd11lLVo0TCdPnlFOzjmVLh2q++5LUu3rKpucHCg6R44c0blz5xQVVdZtPCoqSmlpaSalsibOhffgXBQyL+3UeYppl4Cjo6O1efPmC67fvHmzoqKiLrkfu92usLAwt8VuDyzMqEWieHG7IsuGKzMzS1999a1ata7rtj40NFilS4fqp5/Steubn9Wqdaw5QQET5OTkKCVlm1q3buUas9lsat26pTZsuHL+4PMFnAvvwbkoZIbhucULmdYBHDRokB577DGlpKSodevWrmIvPT1dK1eu1KxZs/Tiiy+aFa/IrFu3S4ZhKCYmWgd+ztCEF99XTEy0OnVqLElaujRFpUuXULlypfX9978qaew7at06Vo0b1zI5ue8LCQlRtWpVXa9jYqqobt06Onbsdx08eNDEZNaUnDxZ8+bN1tatKdq8eYsGDHhCISEhmjNnntnRLIdz4T04F7hcphWACQkJioiI0KRJkzR9+nTl5uZKkvz9/dWgQQPNnTtXXbp0MStekTl58owmT1qktLTjCg8vrrZt66v/gI4KCPCXJB0+nKnxL7yrI0dPKDIiXB063KRevdubnNoaGjZsoNWrl7teJyf/8UiFuXPfUI8ej5oVy7LeeeddRUZGavToEYqOjlZq6nbdeusdysjIuPSbUag4F96Dc1GILHYJ2CueA5iTk6MjR45I+uOupoCAgEu84+KulOcAWoGvPAfQV1zJzwEE4PtMfQ7glmSP7dvWKPHSGxUx0zqAfxcQEKBy5cqZHQMAAFiV0/R+WJHiq+AAAAAsxis6gAAAAKay2BxAOoAAAAAWQwcQAADAYh1ACkAAAABuAgEAAIAvowMIAABgseek0gEEAACwGDqAAAAAzAEEAACAL6MDCAAAYLHHwNABBAAAsBg6gAAAABabA0gBCAAAwCVgAAAA+DI6gAAAABa7BEwHEAAAwGLoAAIAAPBVcAAAAPBldAABAACYAwgAAABfRgcQAACADiAAAAB8GR1AAAAAi30TCAUgAAAAl4ABAADgy+gAAgAA0AEEAACAL6MDCAAAYLGbQOgAAgAAWAwdQAAAAIM5gAAAADBBbm6uhg0bppiYGAUHB6tq1ap67rnnZPytQDUMQ8OHD1e5cuUUHBysNm3aaO/evQU6DgUgAACA0/DcUgAvvPCCZsyYoalTp2r37t164YUXNH78eE2ZMsW1zfjx4/Xyyy9r5syZ2rRpk0JCQtSuXTtlZ2fn+zhcAgYAAPCSx8CsX79eHTp0UPv27SVJVapU0ZtvvqnNmzdL+qP7N3nyZA0dOlQdOnSQJL3xxhuKiorS4sWL1bVr13wdhw4gAACABzkcDp04ccJtcTgc59325ptv1sqVK/X9999LkrZv365169bptttukyTt379faWlpatOmjes94eHhuvHGG7Vhw4Z8Z6IABAAAcDo9tiQlJSk8PNxtSUpKOm+MZ555Rl27dtW1116rgIAA1atXTwMGDNCDDz4oSUpLS5MkRUVFub0vKirKtS4/uAQMAADgQUOGDFFiYqLbmN1uP++277zzjhYsWKCFCxfquuuuU2pqqgYMGKDy5csrPj6+0DJRAAIAAHhwDqDdbr9gwfdPgwcPdnUBJen666/Xzz//rKSkJMXHxys6OlqSlJ6ernLlyrnel56ertjY2Hxn4hIwAACAlzh9+rT8/NzLM39/fzn//KaSmJgYRUdHa+XKla71J06c0KZNmxQXF5fv4/hkBzAw4A6zI+BPOScXmx0Bf1OsxF1mR8CfbDb+/vYWhmGtrwDDBXjJXcB33nmnnn/+eVWqVEnXXXedvv76ayUnJ6tHjx6SJJvNpgEDBmjMmDGqXr26YmJiNGzYMJUvX14dO3bM93F8sgAEAAC4Ek2ZMkXDhg1Tnz59lJGRofLly+vxxx/X8OHDXds89dRTysrK0mOPPabjx4+rSZMmWrp0qYKCgvJ9HJth+N53n/j7lzA7Av509sS7ZkfA39AB9B50AL0HHUDvYRg55h17dj+P7dvWY8qlNypidAABAIDlGR68BGzz2J4vH3+CAgAAWAwdQAAAAN+bEXdRdAABAAAshg4gAACAlzwGpqjQAQQAALAYOoAAAAB0AAEAAODL6AACAABYrANIAQgAAGCxApBLwAAAABZDBxAAAFieJ78KzhvRAQQAALAYOoAAAAB0AAEAAODL6AACAADQAQQAAIAvowMIAABgsQ4gBSAAAIBhrQKQS8AAAAAWQwcQAABYnuE0O0HRogMIAABgMXQAAQAALHYTCB1AAAAAi6EDCAAAQAcQAAAAvowOIAAAsDyr3QVMAQgAAMAlYAAAAPgyOoAAAAAWuwRMBxAAAMBi6AACAADLM5gDCAAAAF9GBxAAAIA5gAAAAPBldAABAACsNQWQAhAAAICbQAAAAODTKAC9zNNPD9TGjWt0/PghHTq0Xx988Kauuaa62bEsISsrW0kTPlDr20epXtxgPdBtsnbuOuBaX6v+gPMur89bZWJqa+nTp7f279+rM2dOauPGr9SoUSOzI1lS06ZNtGTJB/rll/1yOh3q0OEusyNZGr8XhcTpwcULUQB6mebNm2jGjFd1882t1K7dnQoICNDSpUtUvHhxs6P5vGGj39L6Td/rhece0uK3n9LNN9VQz97TlZ5xXJK05vPRbsuYEffLZrOpbes65ga3iC5d7lVy8gSNGjVG9evfoO3bd2jZsk8UGRlpdjTLCQkJ0Y4dO9S3b3+zo1gevxe4XDbDMHzuore/fwmzIxSaiIgIpaf/pBYt2unLL78yO06BnT3xrtkR8iU7+6waNX1GU5N7qnnT61zj9zzwopo2rqn+Ce3zvKdv4mvKynJozisJRRn1XylW4srt1Gzc+JW2bNmqfv3+KDpsNpsOHtyvKVOm6YUXJpicruBsNt/4+9vpdKhTp3u1ZMmHZke5bIbhpS2afPC13wvDyDHt2NkD/+OxfQdNnO+xfV8u3/g3kA8LDw+TJB079rvJSXxbbq5TublOBQYGuI0HBQVoW+qPebY/cvSk1q77Vnd3vKmoIlpaQECAGjSorxUrVrrGDMPQihWrFBfHOYA18XuBf8OrC8CDBw+qR48eF93G4XDoxIkTbouvNDVtNpsmTXpB69at165d35odx6eFhAQptk4VzXxtmTIOZyo316kPP9mq1B0/6fCRE3m2X/LRZhUvHqRbWnH5tyhERESoWLFiSk/PcBtPT09XdHS0SakAc/F7UciYA+g9jh07pnnz5l10m6SkJIWHh7stZraQC9PUqZN03XW19MAD3cyOYgnjnntIhiG1aDdCsTcN0oK31ur2dvXlZ7Pl2faDDzfpjtsayG4POM+eAADwbqY+B/DDDy8+Z+THH/NeevunIUOGKDEx0W2sZMly/yqXN3j55Ylq3/5WtWjRTr/++pvZcSyhUsUIvfFaP50+41DWqWxFRoYr8em5qlAhwm27rdt+0P6fMjRxXLxJSa3nyJEjOnfunKKiyrqNR0VFKS0tzaRUgLn4vShcV/BU0MtiagHYsWNH2Wy2i16ytZ2n+/J3drtddru9QO/xdi+/PFEdO96pVq1u008//Wx2HMspHmxX8WC7Mk+c1lcbvtPA/u43TnywZKOuq1lR115zlUkJrScnJ0cpKdvUunUr180GNptNrVu31NSp001OB5iD34tCRgFYdMqVK6fp06erQ4cO512fmpqqBg0aFHEqc02dOkn333+vOnXqqpMnT7r+ssvMPKHs7GyT0/m2det3yzCkmCpldeDgEU2YvEQxVaLU6a4bXducOpWtZcu3a3Di+f8/C89JTp6sefNma+vWFG3evEUDBjyhkJAQzZlz8WkiKHwhISGqVq2q63VMTBXVrVtHx479roMHD5qYzHr4vcDlMrUAbNCggVJSUi5YAF6qO+iLevd+VJK0evVSt/EePR7XvHkLzIhkGSdPZWvy1I+Vln5c4eEhatuqjvontFdAgL9rm0+XbZMhQ+3b1TcxqTW98867ioyM1OjRIxQdHa3U1O269dY7lJGRcek3o1A1bNhAq1cvd71OTv7jcSNz576hHj0eNSuWJfF7UXgsVm6Y+xzAL7/8UllZWbr11lvPuz4rK0tbt25V8+bNC7RfX3oO4JXuSnkOoFVcyc8B9DW+8hxAX3AlPwfQ15h5E+fpvp57DmDxqd73HEBTO4BNmza96PqQkJACF38AAAAFZbW/A/gTFAAAwGJM7QACAAB4BTqAAAAA8GV0AAEAgOUxBxAAAAA+jQ4gAACwPKs9B5ACEAAAwHllf41sQXEJGAAAwGLoAAIAAMvjJhAAAAD4NDqAAADA8gyDOYAAAADwYXQAAQCA5TEHEAAAAD6NDiAAALA8q3UAKQABAIDlcRMIAAAAfBodQAAAYHkGXwUHAAAAX0YHEAAAWJ5hmJ2gaNEBBAAAsBg6gAAAwPK4CxgAAAA+jQ4gAACwPKvdBUwBCAAALI+bQAAAAODT6AACAADL4yYQAAAA+DQ6gAAAwPKcFrsJhA4gAACAxdABBAAAlsddwAAAAPBpdAABAIDlcRcwAACAxRiGzWNLQf3666966KGHVKZMGQUHB+v666/X1q1b/5bV0PDhw1WuXDkFBwerTZs22rt3b4GOQQEIAADgJX7//Xc1btxYAQEB+uyzz/Ttt99q4sSJKlWqlGub8ePH6+WXX9bMmTO1adMmhYSEqF27dsrOzs73cbgEDAAALM/pJZeAX3jhBVWsWFFz5sxxjcXExLj+2TAMTZ48WUOHDlWHDh0kSW+88YaioqK0ePFide3aNV/HoQMIAADgQQ6HQydOnHBbHA7Hebf98MMP1bBhQ917770qW7as6tWrp1mzZrnW79+/X2lpaWrTpo1rLDw8XDfeeKM2bNiQ70wUgAAAwPIMp81jS1JSksLDw92WpKSk8+b48ccfNWPGDFWvXl3Lli1T79699cQTT2jevHmSpLS0NElSVFSU2/uioqJc6/KDS8AAAAAeNGTIECUmJrqN2e32827rdDrVsGFDjR07VpJUr149ffPNN5o5c6bi4+MLLRMdQAAAYHmG4bnFbrcrLCzMbblQAViuXDnVqlXLbaxmzZo6cOCAJCk6OlqSlJ6e7rZNenq6a11++GQH0DByzI6APxUrcZfZEfA3uYffMjsC/uQfmb+J2vC8gGKlzY4AuDRu3Fh79uxxG/v+++9VuXJlSX/cEBIdHa2VK1cqNjZWknTixAlt2rRJvXv3zvdxfLIABAAAKAhvuQv4ySef1M0336yxY8eqS5cu2rx5s1599VW9+uqrkiSbzaYBAwZozJgxql69umJiYjRs2DCVL19eHTt2zPdxKAABAIDlecs3gTRq1EiLFi3SkCFDNHr0aMXExGjy5Ml68MEHXds89dRTysrK0mOPPabjx4+rSZMmWrp0qYKCgvJ9HJth+N7XH/v5nf+6OoqeYTjNjoC/4RKw9+ASsPfgErD3OJuTfumNPGTfrQke23e1pdM8tu/LRQcQAABYnrdcAi4q3AUMAABgMXQAAQCA5XnLHMCiQgcQAADAYugAAgAAy7PaLYt0AAEAACyGDiAAALA8q80BpAAEAACWZ7XHwOSrANyxY0e+d1inTp3LDgMAAADPy1cBGBsbK5vNpgt9achf62w2m3Jzcws1IAAAgKdxCfg89u/f7+kcAAAAKCL5KgArV67s6RwAAACmcZ7/IqfPuqzHwMyfP1+NGzdW+fLl9fPPP0uSJk+erCVLlhRqOAAAABS+AheAM2bMUGJiom6//XYdP37cNeevZMmSmjx5cmHnAwAA8DjDsHls8UYFLgCnTJmiWbNm6dlnn5W/v79rvGHDhtq5c2ehhgMAAEDhK/BzAPfv36969erlGbfb7crKyiqUUAAAAEXJKe/s1HlKgTuAMTExSk1NzTO+dOlS1axZszAyAQAAFCnD8NzijQrcAUxMTFRCQoKys7NlGIY2b96sN998U0lJSXrttdc8kREAAACFqMAF4COPPKLg4GANHTpUp0+f1gMPPKDy5cvrpZdeUteuXT2REQAAwKP4Krh8ePDBB/Xggw/q9OnTOnXqlMqWLVvYuQAAAOAhl1UASlJGRob27Nkj6Y+vgouMjCy0UAAAAEWJm0Au4eTJk/rPf/6j8uXLq3nz5mrevLnKly+vhx56SJmZmZ7ICAAAgEJU4ALwkUce0aZNm/TJJ5/o+PHjOn78uD7++GNt3bpVjz/+uCcyAgAAeBR3AV/Cxx9/rGXLlqlJkyausXbt2mnWrFm69dZbCzUcAAAACl+BC8AyZcooPDw8z3h4eLhKlSpVKKEAAACKktXuAi7wJeChQ4cqMTFRaWlprrG0tDQNHjxYw4YNK9RwAAAARcGQzWOLN8pXB7BevXqy2f7/A+zdu1eVKlVSpUqVJEkHDhyQ3W7X4cOHmQcIAADg5fJVAHbs2NHDMQAAAMzj9NKbNTwlXwXgiBEjPJ0DAAAAReSyHwQNAADgK6x2E0iBC8Dc3FxNmjRJ77zzjg4cOKCzZ8+6rT927FihhQMAAEDhK/BdwKNGjVJycrLuu+8+ZWZmKjExUZ07d5afn59GjhzpgYgAAACeZbW7gAtcAC5YsECzZs3SwIEDVaxYMd1///167bXXNHz4cG3cuNETGQEAAFCIClwApqWl6frrr5cklShRwvX9v3fccYc++eSTwk0HAABQBJyG5xZvVOACsEKFCjp06JAkqWrVqvr8888lSVu2bJHdbi/cdAAAACh0BS4AO3XqpJUrV0qS+vXrp2HDhql69ep6+OGH1aNHj0IPCAAA4GnMAbyEcePG6b///a8k6b777tOXX36p3r1767333tO4ceMKPaDVNG3aREuWfKBfftkvp9OhDh3uMjuS5fXp01v79+/VmTMntXHjV2rUqJHZkXxeVpZDYyd/rFadxyu25XDd//hM7dz9i2v9kDHvqWbj/7otjybOMTGx9fB74X0GD+6nsznpenHic2ZHuSJxCbiAbrrpJiUmJurGG2/U2LFjCyOTpYWEhGjHjh3q27e/2VEgqUuXe5WcPEGjRo1R/fo3aPv2HVq27BNFRkaaHc2nDR33gdZv2acXht+rJfP7q/EN1dSj/+tKP5zp2qbpTddo7YdDXMuLI7uamNha+L3wPg0axuqRRx/Wjh27zI6CK8S/LgD/cujQIQ0bNqywdmdZS5cu07BhI7V48YdmR4GkxMQBmjXrdc2dO0+7d+9Wr159dPr0afXo0c3saD4r25Gj5Wt2aVDCrWoUG6PKFcqob882qlShjN5ctMm1XWCAvyLLhLqW8LBgE1NbC78X3iUkpLjemDddvXsN1O+/Hzc7zhXLadg8tnijQisAAV8TEBCgBg3qa8WKla4xwzC0YsUqxcXdZGIy35Z7zqncXKfsge7PqQ+yB2jbjp9drzd/vV+N2z+v27oma+SExfo983RRR7Ukfi+8z8tTxunTz1Zo1aq1ZkfBFYSvggMuICIiQsWKFVN6eobbeHp6uq69toZJqXxfSIhdsbUracbc1apauazKlC6hT1ZsV+o3B1TpqjKSpCY3Vdctza9ThfKldODXY5r8yjI9PnCu3nyll/z9+bvWk/i98C5dunRUvXp1FHdTO7OjXPG8dKqex5heAJ45c0YpKSkqXbq0atWq5bYuOztb77zzjh5++OELvt/hcMjhcLiNGYYhm807W64ALu2FYffq2aT31bzjOPn7+6nWNeXVvk1d7drzqySpfZu6rm2vqRqtGlWj1bbLi9r89Y+Ka1jNrNhAkapQobwmJo/R7bd1yfPfQeBS8l0AJiYmXnT94cOHC3zw77//Xm3bttWBAwdks9nUpEkTvfXWWypXrpwkKTMzU927d79oAZiUlKRRo0b9Y9RPXlDb4gp35MgRnTt3TlFRZd3Go6KilJaWZlIqa6hUoYzmT3tMp8+c1amsbJWNCNOTw95UhfKlz7t9xatKq1TJ4jrwy1EKQA/j98J71K9fV1FRkdq0eblrrFixYmraNE59+vRQiZCKcjqdJia8snjrXD1Pyfe1kq+//vqiyy+//KJmzZoV6OBPP/20ateurYyMDO3Zs0ehoaFq3LixDhw4kO99DBkyRJmZmW6L5F+gHMD55OTkKCVlm1q3buUas9lsat26pTZs4GsPi0Lx4ECVjQhT5okz+mrzXrVuWvO826VlZOp45hlFlgkr4oTWw++F91i1aq3qxTZXo4atXcvWrV/rzTffV6OGrSn+cFH5bpOtXr260A++fv16rVixQhEREYqIiNBHH32kPn36qGnTplq9erVCQkIuuQ+73Z7nG0iu5Mu/ISEhqlatqut1TEwV1a1bR8eO/a6DBw+amMyakpMna9682dq6NUWbN2/RgAFPKCQkRHPmzDM7mk9bt+l7GYYUUylCP/9yVC9OW6qYSpHq1L6Bsk47NH32Kt3S4jpFlgnVgV+P6sXpS1WpQmk1ubG62dEtgd8L73DqVJZ27frObSwr67SOHv09zzguzWrlsqnXSc+cOaNixf4/gs1m04wZM9S3b181b95cCxcuNDGdORo2bKDVq/+/nZ+cPEGSNHfuG+rR41GzYlnWO++8q8jISI0ePULR0dFKTd2uW2+9QxkZGZd+My7byVPZmjTzc6UdzlR4WHG1bX6dBjzeVgHF/JWb69SeH9K0+LNtOnkqW5ERoWp8Q3U98WgbBQYy9aMo8HsBX2RY7BKwzTAM0258ueGGG9SvXz/95z//ybOub9++WrBggU6cOKHc3NwC7dfPj+8k9haGYbW/qbxb7uG3zI6AP/lH8uBqbxFQ7PxzS1H0zuakm3bsj24Y6rF937l5jMf2fblMfV5Cp06d9Oabb5533dSpU3X//ffLxPoUAABYhNODizcytQPoKXQAvQcdQO9CB9B70AH0HnQAvYeZHcAlHuwAdvDCDiATZgAAgOU5fa4ddnGXdQn4yy+/1EMPPaS4uDj9+usfD2adP3++1q1bV6jhAAAAUPgKXAC+//77ateunYKDg/X111+7nj6emZmpsWPHFnpAAAAATzNk89jijQpcAI4ZM0YzZ87UrFmzFBAQ4Bpv3Lixtm3bVqjhAAAAUPgKPAdwz5495/3Gj/DwcB0/frwwMgEAABQp5gBeQnR0tPbt25dnfN26dbr66qsLJRQAAEBR4hLwJTz66KPq37+/Nm3aJJvNpt9++00LFizQoEGD1Lt3b09kBAAAQCEq8CXgZ555Rk6nU61bt9bp06fVrFkz2e12DRo0SP369fNERgAAAI+y2iXgAheANptNzz77rAYPHqx9+/bp1KlTqlWrlkqUKOGJfAAAAChkl/0g6MDAQNWqVaswswAAAJiCDuAltGzZUjbbhSc0rlq16l8FAgAAgGcVuACMjY11e52Tk6PU1FR98803io+PL6xcAAAARcZb79b1lAIXgJMmTTrv+MiRI3Xq1Kl/HQgAAACedVnfBXw+Dz30kGbPnl1YuwMAACgyTsNzize67JtA/mnDhg0KCgoqrN0BAAAUGafZAYpYgQvAzp07u702DEOHDh3S1q1bNWzYsEILBgAAAM8ocAEYHh7u9trPz081atTQ6NGj1bZt20ILBgAAUFQMg5tALig3N1fdu3fX9ddfr1KlSnkqEwAAADyoQDeB+Pv7q23btjp+/LiH4gAAABQ9pwcXb1Tgu4Br166tH3/80RNZAAAAUAQKXACOGTNGgwYN0scff6xDhw7pxIkTbgsAAMCVhsfAXMDo0aM1cOBA3X777ZKku+66y+0r4QzDkM1mU25ubuGnBAAAQKHJdwE4atQo9erVS6tXr/ZkHgAAgCLnpY06j8l3AWgYf/xomjdv7rEwAAAAZnBa7DEwBZoD+PdLvgAAALgyFeg5gNdcc80li8Bjx479q0AAAABFjUvAFzFq1Kg83wQCAACAK0uBCsCuXbuqbNmynsoCAABgCm99XIun5HsOIPP/AAAAfEOB7wIGAADwNd76lW2eku8C0Om02o8GAADANxVoDiAAAIAvstqFTgpAAABgeU5Z616HAj0IGgAAAEVn3LhxstlsGjBggGssOztbCQkJKlOmjEqUKKG7775b6enpBdovBSAAALA8w/Dccrm2bNmiV155RXXq1HEbf/LJJ/XRRx/p3Xff1Zo1a/Tbb7+pc+fOBdo3BSAAAICXOXXqlB588EHNmjVLpUqVco1nZmbq9ddfV3Jyslq1aqUGDRpozpw5Wr9+vTZu3Jjv/VMAAgAAy3N6cHE4HDpx4oTb4nA4LponISFB7du3V5s2bdzGU1JSlJOT4zZ+7bXXqlKlStqwYUO+Py8FIAAAgAclJSUpPDzcbUlKSrrg9m+99Za2bdt23m3S0tIUGBiokiVLuo1HRUUpLS0t35m4CxgAAFieJ78KbsiQIUpMTHQbs9vt59324MGD6t+/v5YvX66goCCPZfLJAtAweGg1cD7+kV3NjoA/5e571ewI+FOpuhPNjgAfZ7fbL1jw/VNKSooyMjJUv35911hubq7Wrl2rqVOnatmyZTp79qyOHz/u1gVMT09XdHR0vjP5ZAEIAABQEN7yHOjWrVtr586dbmPdu3fXtddeq6effloVK1ZUQECAVq5cqbvvvluStGfPHh04cEBxcXH5Pg4FIAAAsDxPXgIuiNDQUNWuXdttLCQkRGXKlHGN9+zZU4mJiSpdurTCwsLUr18/xcXF6aabbsr3cSgAAQAAriCTJk2Sn5+f7r77bjkcDrVr107Tp08v0D4oAAEAgOV583cBf/HFF26vg4KCNG3aNE2bNu2y98ljYAAAACyGDiAAALA8qz0/hA4gAACAxdABBAAAluctdwEXFTqAAAAAFkMHEAAAWJ7FGoAUgAAAAFwCBgAAgE+jAwgAACzPkM3sCEWKDiAAAIDF0AEEAACWxxxAAAAA+DQ6gAAAwPLoAAIAAMCn0QEEAACWZ7EGIAUgAAAAl4ABAADg0+gAAgAAyzMsdhGYDiAAAIDF0AEEAACWxxxAAAAA+DQ6gAAAwPIs1gCkAwgAAGA1dAABAIDlMQcQAAAAPo0OIAAAsDzDYh1ACkAAAGB5TrMDFDEuAQMAAFgMHUAAAGB53AQCAAAAn0YHEAAAWJ7VbgKhAwgAAGAxdAABAIDlcRcwAAAAfBodQAAAYHlWmwNIAQgAACyPS8AwXZ8+vbV//16dOXNSGzd+pUaNGpkdydI4H96Dc2GOrNMOjX1lhVrFT1dsxxd1/8D52vn9IUlSzrlcvTh7te7q/brqd5qoZg9N1dMvfqSMoydNTu37/Pz89OywvtrxzVKlHd6q1B2fafDTj5sdC1cICkAv06XLvUpOnqBRo8aofv0btH37Di1b9okiIyPNjmZJnA/vwbkwz9CXPtP6r3/SC4Pu0JLpPdW4XhX1+O9bSj9yUtmOHH27L129779Z70/pppeHdtJPvxxTn1Hvmx3b5z2Z2FM9H7lPgwaO1Q0N7tKI4cnqP6CHHu/9oNnRrkiGYXhs8UYUgF4mMXGAZs16XXPnztPu3bvVq1cfnT59Wj16dDM7miVxPrwH58Ic2Y4cLf9qjwb1aKFG11dS5fKl1PehpqpUvqTe/ORrhYYEafbYrrqtWU3FVCij2Guv0tA+bbVrX5p+y8g0O75Pu+HGWH368Wp9vmytDhz4TUsWL9fqVevVoMH1ZkfDFYAC0IsEBASoQYP6WrFipWvMMAytWLFKcXE3mZjMmjgf3oNzYZ7cXKdynYbsge5TxoMCA7Tt24Pnfc/JLIdsNimsRFBRRLSszZtS1azFjaparbIkqXbtGroprr6Wf/6lycmuTE7Dc4s3Mv0mkN27d2vjxo2Ki4vTtddeq++++04vvfSSHA6HHnroIbVq1eqi73c4HHI4HP8YNSTZPJbZUyIiIlSsWDGlp2e4jaenp+vaa2uYlMq6OB/eg3NhnpDidsXWvEoz3vxKVSuWUZmSIfpkzbdK/e5XVSpXKs/2jrPnNHHOarVvXkslittNSGwdyRNfU2hoiLZu+0i5ubny9/fXc6Ne1rvvfGJ2NFwBTO0ALl26VLGxsRo0aJDq1aunpUuXqlmzZtq3b59+/vlntW3bVqtWrbroPpKSkhQeHu62WO9eHgDwnBcG3SHDkJr/Z5rqdpig/32YovbNa8nPz/0P7ZxzuXoyabEMQxrRt51Jaa2j89236t777tAjPZ5WsyZd1OuxZ9XviW66/4G7zI52RTI8uHgjUwvA0aNHa/DgwTp69KjmzJmjBx54QI8++qiWL1+ulStXavDgwRo3btxF9zFkyBBlZma6LVfqle0jR47o3Llziooq6zYeFRWltLQ0k1JZF+fDe3AuzFWpXCnNH/+gUj5I1Ko3EvTO5HjlnMtVheiSrm3+Kv5+y8jU6893pftXBEaPGahJya/p/fc+07e79urttz7StGlvKHHQI2ZHwxXA1Epp165d6tatmySpS5cuOnnypO655x7X+gcffFA7duy46D7sdrvCwsLclivx8q8k5eTkKCVlm1q3/v/L3jabTa1bt9SGDRtNTGZNnA/vwbnwDsWDAlW2dAllnszWV9v2q/VN1SX9f/H382+/a/bY+1UqLNjkpNZQPDhIxj8mmDlznfKzXZlNELMxB7CI2Wx/FGt+fn4KCgr68xLuH0JDQ//s6FlHcvJkzZs3W1u3pmjz5i0aMOAJhYSEaM6ceWZHsyTOh/fgXJhnXcqPMgwppkJp/fzb73px9mrFVCijTrdcr5xzuRowdpG+3ZeuGSPvUW6uU4ePnZIkhYcGKzDA3+T0vuuzz77QwMGP6uDBQ/pu9z7VqVtTCf0e1v/eWGR2tCuStxZqnmJqAVilShXt3btXVatWlSRt2LBBlSpVcq0/cOCAypUrZ1Y8U7zzzruKjIzU6NEjFB0drdTU7br11juUkZFx6Tej0HE+vAfnwjwnsxyaNHeN0o6cVHhokNo2rqEB8c0UUMxfv6Yf16qN+yRJnfrOcXvfvHH364Y6lc2IbAlPDRqrZ4f108RJQxUZWVpphw5rzux39ULSDLOj4QpgM0x8QuHMmTNVsWJFtW/f/rzr//vf/yojI0OvvfZagfZrswUURjwA8Jjcfa+aHQF/KlV3otkR8KfMU9+Yduxu5UZ6bN9zD3lu35fL1A5gr169Lrp+7NixRZQEAADAOkyfAwgAAGA2q80B5FYhAAAAi6EDCAAALM+8OyLMQQcQAADAYugAAgAAy3N67Ze2eQYFIAAAsDwuAQMAAMCn0QEEAACW5zQ7QBGjAwgAAGAxdAABAIDlmfjNuKagAwgAAGAxdAABAIDl8VVwAAAA8Gl0AAEAgOXxIGgAAACLsdg9IFwCBgAAsBo6gAAAwPKsdgmYDiAAAIDF0AEEAACWxxxAAAAA+DQ6gAAAwPKYAwgAAACfRgcQAABYntNikwApAAEAgOUZXAIGAACAL6MDCAAALM9pdoAiRgcQAADAYugAAgAAy+MxMAAAAPBpdAABAIDlGRZ7DAwdQAAAAIuhAwgAACzPanMAKQABAIDlWa0A5BIwAACAxVAAAgAAyzPk9NhSEElJSWrUqJFCQ0NVtmxZdezYUXv27HHbJjs7WwkJCSpTpoxKlCihu+++W+np6QU6DgUgAACAl1izZo0SEhK0ceNGLV++XDk5OWrbtq2ysrJc2zz55JP66KOP9O6772rNmjX67bff1Llz5wIdhzmAAADA8rxlDuDSpUvdXs+dO1dly5ZVSkqKmjVrpszMTL3++utauHChWrVqJUmaM2eOatasqY0bN+qmm27K13HoAAIAAHiQw+HQiRMn3BaHw5Gv92ZmZkqSSpcuLUlKSUlRTk6O2rRp49rm2muvVaVKlbRhw4Z8Z6IABAAAlue5GYCGkpKSFB4e7rYkJSVdOpPTqQEDBqhx48aqXbu2JCktLU2BgYEqWbKk27ZRUVFKS0vL9+flEjBgITYbf/N5i+CaQ82OgD+dOTDJ7AjwcUOGDFFiYqLbmN1uv+T7EhIS9M0332jdunWFnokCEAAAWJ6zgHfrFoTdbs9Xwfd3ffv21ccff6y1a9eqQoUKrvHo6GidPXtWx48fd+sCpqenKzo6Ot/7px0AAAAsz7A5PbYUKIdhqG/fvlq0aJFWrVqlmJgYt/UNGjRQQECAVq5c6Rrbs2ePDhw4oLi4uHwfhw4gAACAl0hISNDChQu1ZMkShYaGuub1hYeHKzg4WOHh4erZs6cSExNVunRphYWFqV+/foqLi8v3HcASBSAAAIDXPAZmxowZkqQWLVq4jc+ZM0fdunWTJE2aNEl+fn66++675XA41K5dO02fPr1Ax7EZhuEdn7gQ2WwBZkcAvBI3gXiPgGIRZkfAn7gJxHv4RXcx7dg3lurrsX1v+n2qx/Z9uegAAgAAy/PkTSDeiHYAAACAxdABBAAAlmfQAQQAAIAvowMIAAAsz1nA5/Vd6egAAgAAWAwdQAAAYHlWuwuYAhAAAFie1QpALgEDAABYDB1AAABgeTwGBgAAAD6NDiAAALA8p3LNjlCk6AACAABYDB1AAABgecwBBAAAgE+jAwgAACzPal8FRwEIAAAsj5tAAAAA4NPoAAIAAMvjJhAAAAD4NDqAAADA8pwGcwABAADgw+gAAgAAy2MOIAAAAHwaHUAAAGB5hsWeA0gBCAAALM/JJWAAAAD4MjqAAADA8rgJBAAAAD6NDiAAALA8gwdBAwAAwJfRAQQAAJbHXcAAAADwaXQAAQCA5fEgaAAAAIsxDC4Bw2R9+vTW/v17debMSW3c+JUaNWpkdiRL43yYr2nTJlqy5AP98st+OZ0Odehwl9mRLGvosEQ5zv7qtuzYucbsWJaRddqhsVM+VasuLyr2llG6v8+r2rn7l/NuO3Lih6rZfJjmvbu+iFPiSkAB6GW6dLlXyckTNGrUGNWvf4O2b9+hZcs+UWRkpNnRLInz4R1CQkK0Y8cO9e3b3+wokLRr13eqVDHWtbRs0dHsSJYxdPxird+6Ty88e4+WzOmrxo2qqcfAuUo/fMJtu+Vrv9X2bw+qbESoSUmvPE4P/s8bUQB6mcTEAZo163XNnTtPu3fvVq9efXT69Gn16NHN7GiWxPnwDkuXLtOwYSO1ePGHZkeBpHPncpWefti1HD36u9mRLCHbkaPla7/VoF7t1KhuFVWuUEZ9u7dSpavK6M0lm13bpR8+oedf/kTjh96jYsX8TUwMb+Z1BaBhGGZHME1AQIAaNKivFStWusYMw9CKFasUF3eTicmsifMBnF+1ajHa/1OKvvtuvebOm6KKFcubHckScnOdys11yh7oPn0/yF5M23b+LElyOp16+vn31KNrE1WPiTIj5hXLMHI9tngjrysA7Xa7du/ebXYMU0RERKhYsWJKT89wG09PT1d0dLRJqayL8wHktWXz13rkkSd1550PqV+/IapSpZJWrlqkEiVCzI7m80KK2xV7XUXNeOMLZRw5odxcpz78PFWpuw7q8NGTkqTXFn4pf38//edu/kjFxZl2F3BiYuJ5x3NzczVu3DiVKVNGkpScnHzR/TgcDjkcjn+MGpJshZASAPB3y5atdv3zNzt3a/Pmr7V33ybdc8+dmjv3LROTWcMLz96jZ19YpOZ3T5C/v59qVS+n9q2v1649v2nXnl81//2Nen9Wb9ls/DewoAwvnavnKaYVgJMnT1bdunVVsmRJt3HDMLR7926FhITk6//ASUlJGjVq1D9GbZKuvHkPR44c0blz5xQVVdZtPCoqSmlpaSalsi7OB3BpmZkntHfvj6parYrZUSyh0lWlNf/lnjp95qxOnXaobJlQPTnybVUoX1pbd/yso79nqVWXia7tc3OdGj99qd54b4NWvj3QxOTwNqYVgGPHjtWrr76qiRMnqlWrVq7xgIAAzZ07V7Vq1crXfoYMGZKnmxgeXrpQsxaVnJwcpaRsU+vWrbRkyR+T3W02m1q3bqmpU6ebnM56OB/ApYWEFNfVV1fWwgXvmx3FUooHB6p4cKAyT57RV1v2adDjbXVL8+sU16Cq23aPDp6nu9rGqvNt9UxKeuWw2nMATSsAn3nmGbVu3VoPPfSQ7rzzTiUlJSkgIKDA+7Hb7bLb7f8YvXJb38nJkzVv3mxt3ZqizZu3aMCAJxQSEqI5c+aZHc2SOB/eISQkRNWq/f9/2GJiqqhu3To6dux3HTx40MRk1jNu3DB98slyHTjwi8qVi9bw4QOVm+vU228vNjuaJazbvFeGIcVUitDPvxzVizOXKaZShDrdXl8BxfxVKry42/bFivkronQJxVTi0VWXwjeBFKFGjRopJSVFCQkJatiwoRYsWGD5eQvvvPOuIiMjNXr0CEVHRys1dbtuvfUOZWRkXPrNKHScD+/QsGEDrV693PU6OXmCJGnu3DfUo8ejZsWypKsqlNMb86epTJlSOnz4mNav36xmTe/UkSPHzI5mCSdPZWvSrOVKO3xC4aHBatv8Og14pI0CeNwLCshmeMlzV9566y0NGDBAhw8f1s6dO/N9Cfh8bLaCdxIBK7DZvO7Gf8sKKBZhdgT86cyBSWZHwJ/8oruYduzSobEe2/exk6ke2/fl8prvAu7atauaNGmilJQUVa5c2ew4AAAAPstrCkBJqlChgipUqGB2DAAAYDFWuwmE60EAAAAW41UdQAAAADM4LfYgaDqAAAAAFkMHEAAAWJ7V5gBSAAIAAMszDGs9CJpLwAAAABZDBxAAAFiewU0gAAAA8GV0AAEAgOVZ7SYQOoAAAAAWQwcQAABYHh1AAAAA+DQ6gAAAwPKsdhcwBSAAALA8LgEDAADAp9EBBAAAlkcHEAAAAD6NDiAAAIDFbgKhAwgAAGAxdAABAIDlMQcQAAAAPo0OIAAAsDweBA0AAGAxXAIGAACAT6MDCAAAoFyzAxQpOoAAAAAWQwcQAABYHnMAAQAA4NPoAAIAAFjsMTB0AAEAACyGDiAAAABzAAEAAODL6AACAADLM2SYHaFIUQACAABwEwgAAAB8GQUgAACAYXhuuQzTpk1TlSpVFBQUpBtvvFGbN28u1I9LAQgAAOBF3n77bSUmJmrEiBHatm2b6tatq3bt2ikjI6PQjkEBCAAALM/w4P8KKjk5WY8++qi6d++uWrVqaebMmSpevLhmz55daJ+XAhAAAMCDHA6HTpw44bY4HI7zbnv27FmlpKSoTZs2rjE/Pz+1adNGGzZsKLRMPnkXsGHkmB3hX3M4HEpKStKQIUNkt9vNjmNpnAvvwbnwHpwL78L5+Pc8WTuMHDlSo0aNchsbMWKERo4cmWfbI0eOKDc3V1FRUW7jUVFR+u677wotk80wLnN2IjzqxIkTCg8PV2ZmpsLCwsyOY2mcC+/BufAenAvvwvnwbg6HI0/Hz263n7dY/+2333TVVVdp/fr1iouLc40/9dRTWrNmjTZt2lQomXyyAwgAAOAtLlTsnU9ERIT8/f2Vnp7uNp6enq7o6OhCy8QcQAAAAC8RGBioBg0aaOXKla4xp9OplStXunUE/y06gAAAAF4kMTFR8fHxatiwoW644QZNnjxZWVlZ6t69e6EdgwLQS9ntdo0YMYLJvF6Ac+E9OBfeg3PhXTgfvuW+++7T4cOHNXz4cKWlpSk2NlZLly7Nc2PIv8FNIAAAABbDHEAAAACLoQAEAACwGApAAAAAi6EABAAAsBgKQC80bdo0ValSRUFBQbrxxhu1efNmsyNZ0tq1a3XnnXeqfPnystlsWrx4sdmRLCspKUmNGjVSaGioypYtq44dO2rPnj1mx7KkGTNmqE6dOgoLC1NYWJji4uL02WefmR0LksaNGyebzaYBAwaYHQVXAApAL/P2228rMTFRI0aM0LZt21S3bl21a9dOGRkZZkeznKysLNWtW1fTpk0zO4rlrVmzRgkJCdq4caOWL1+unJwctW3bVllZWWZHs5wKFSpo3LhxSklJ0datW9WqVSt16NBBu3btMjuapW3ZskWvvPKK6tSpY3YUXCF4DIyXufHGG9WoUSNNnTpV0h9P/65YsaL69eunZ555xuR01mWz2bRo0SJ17NjR7CiQdPjwYZUtW1Zr1qxRs2bNzI5jeaVLl9aECRPUs2dPs6NY0qlTp1S/fn1Nnz5dY8aMUWxsrCZPnmx2LHg5OoBe5OzZs0pJSVGbNm1cY35+fmrTpo02bNhgYjLAu2RmZkr6o/CAeXJzc/XWW28pKyurUL+iCgWTkJCg9u3bu/23A7gUvgnEixw5ckS5ubl5nvQdFRWl7777zqRUgHdxOp0aMGCAGjdurNq1a5sdx5J27typuLg4ZWdnq0SJElq0aJFq1apldixLeuutt7Rt2zZt2bLF7Ci4wlAAAriiJCQk6JtvvtG6devMjmJZNWrUUGpqqjIzM/Xee+8pPj5ea9asoQgsYgcPHlT//v21fPlyBQUFmR0HVxgKQC8SEREhf39/paenu42np6crOjrapFSA9+jbt68+/vhjrV27VhUqVDA7jmUFBgaqWrVqkqQGDRpoy5Yteumll/TKK6+YnMxaUlJSlJGRofr167vGcnNztXbtWk2dOlUOh0P+/v4mJoQ3Yw6gFwkMDFSDBg20cuVK15jT6dTKlSuZXwNLMwxDffv21aJFi7Rq1SrFxMSYHQl/43Q65XA4zI5hOa1bt9bOnTuVmprqWho2bKgHH3xQqampFH+4KDqAXiYxMVHx8fFq2LChbrjhBk2ePFlZWVnq3r272dEs59SpU9q3b5/r9f79+5WamqrSpUurUqVKJiaznoSEBC1cuFBLlixRaGio0tLSJEnh4eEKDg42OZ21DBkyRLfddpsqVaqkkydPauHChfriiy+0bNkys6NZTmhoaJ55sCEhISpTpgzzY3FJFIBe5r777tPhw4c1fPhwpaWlKTY2VkuXLs1zYwg8b+vWrWrZsqXrdWJioiQpPj5ec+fONSmVNc2YMUOS1KJFC7fxOXPmqFu3bkUfyMIyMjL08MMP69ChQwoPD1edOnW0bNky3XLLLWZHA1AAPAcQAADAYpgDCAAAYDEUgAAAABZDAQgAAGAxFIAAAAAWQwEIAABgMRSAAAAAFkMBCAAAYDEUgAAAABZDAQig0HTr1k0dO3Z0vW7RooUGDBhQ5Dm++OIL2Ww2HT9+3GPH+OdnvRxFkRMAzocCEPBx3bp1k81mk81mU2BgoKpVq6bRo0fr3LlzHj/2Bx98oOeeey5f2xZ1MVSlShVNnjy5SI4FAN6G7wIGLODWW2/VnDlz5HA49OmnnyohIUEBAQEaMmRInm3Pnj2rwMDAQjlu6dKlC2U/AIDCRQcQsAC73a7o6GhVrlxZvXv3Vps2bfThhx9K+v9Lmc8//7zKly+vGjVqSJIOHjyoLl26qGTJkipdurQ6dOign376ybXP3NxcJSYmqmTJkipTpoyeeuop/fOrxf95CdjhcOjpp59WxYoVZbfbVa1aNb3++uv66aef1LJlS0lSqVKlZLPZ1K1bN0mS0+lUUlKSYmJiFBwcrLp16+q9995zO86nn36qa665RsHBwWrZsqVbzsuRm5urnj17uo5Zo0YNvfTSS+fddtSoUYqMjFRYWJh69eqls2fPutblJzsAmIEOIGBBwcHBOnr0qOv1ypUrFRYWpuXLl0uScnJy1K5dO8XFxenLL79UsWLFNGbMGN16663asWOHAgMDNXHiRM2dO1ezZ89WzZo1NXHiRC1atEitWrW64HEffvhhbdiwQS+//LLq1q2r/fv368iRI6pYsaLef/993X333dqzZ4/CwsIUHBwsSUpKStL//vc/zZw5U9WrV9fatWv10EMPKTIyUs2bN9fBgwfVuXNnJSQk6LHHHtPWrVs1cODAf/XzcTqdqlChgt59912VKVNG69ev12OPPaZy5cqpS5cubj+3oKAgffHFF/rpp5/UvXt3lSlTRs8//3y+sgOAaQwAPi0+Pt7o0KGDYRiG4XQ6jeXLlxt2u90YNGiQa31UVJThcDhc75k/f75Ro0YNw+l0usYcDocRHBxsLFu2zDAMwyhXrpwxfvx41/qcnByjQoUKrmMZhmE0b97c6N+/v2EYhrFnzx5DkrF8+fLz5ly9erUhyfj9999dY9nZ2Ubx4sWN9evXu23bs2dP4/777zcMwzCGDBli1KpVy239008/nWdf/1S5cmVj0qRJF1z/TwkJCcbdd9/teh0fH2+ULl3ayMrKco3NmDHDKFGihJGbm5uv7Of7zABQFOgAAhbw8ccfq0SJEsrJyZHT6dQDDzygkSNHutZff/31bvP+tm/frn379ik0NNRtP9nZ2frhhx+UmZmpQ4cO6cYbb3StK1asmBo2bJjnMvBfUlNT5e/vX6DO1759+3T69GndcsstbuNnz55VvXr1JEm7d+92yyFJcXFx+T7GhUybNk2zZ8/WgQMHdObMGZ09e1axsbFu29StW1fFixd3O+6pU6d08OBBnTp16pLZAcAsFICABbRs2VIzZsxQYGCgypcvr2LF3H/1Q0JC3F6fOnVKDRo00IIFC/LsKzIy8rIy/HVJtyBOnTolSfrkk0901VVXua2z2+2XlSM/3nrrLQ0aNEgTJ05UXFycQkNDNWHCBG3atCnf+zArOwDkBwUgYAEhISGqVq1avrevX7++3n77bZUtW1ZhYWHn3aZcuXLatGmTmjVrJkk6d+6cUlJSVL9+/fNuf/3118vpdGrNmjVq06ZNnvV/dSBzc3NdY7Vq1ZLdbteBAwcu2DmsWbOm64aWv2zcuPHSH/IivvrqK918883q06ePa+yHH37Is9327dt15swZV3G7ceNGlShRQhUrVlTp0qUvmR0AzMJdwADyePDBBxUREaEOHTroyy+/1P79+/XFF1/oiSee0C+//CJJ6t+/v8aNG6fFixfru+++U58+fS76DL8qVaooPj5ePXr00OLFi137fOeddyRJlStXls1m08cff6zDhw/r1KlTCg0N1aBBg/Tkk09q3rx5+uGHH7Rt2zZNmTJF8+bNkyT16tVLe/fu1eDBg7Vnzx4tXLhQc+fOzdfn/PXXX5Wamuq2/P7776pevbq2bt2qZcuW6fvvv9ewYcO0ZcuWPO8/e/asevbsqW+//VaffvqpRowYob59+8rPzy9f2QHANGZPQgTgWX+/CaQg6w8dOmQ8/PDDRkREhGG3242rr77aePTRR43MzEzDMP646aN///5GWFiYUbJkSSMxMdF4+OGHL3gTiGEYxpkzZ4wnn3zSKFeunBEYGGhUq1bNmD17tmv96NGjjejoaMNmsxnx8fGGYfxx48rkyZONGjVqGAEBAUZkZKTRrl07Y82aNa73ffTRR0a1atUMu91uNG3a1Jg9e3a+bgKRlGeZP3++kZ2dbXTr1s0IDw83SpYsafTu3dt45plnjLp16+b5uQ0fPtwoU6aMUaJECePRRx81srOzXdtcKjs3gQAwi80wLjBjGwAAAD6JS8AAAAAWQwEIAABgMRSAAAAAFkMBCAAAYDEUgAAAABZDAQgAAGAxFIAAAAAWQwEIAABgMRSAAAAAFkMBCAAAYDEUgAAAABbzf4a1ye/YZETXAAAAAElFTkSuQmCC\n"
          },
          "metadata": {}
          }
        ]
      },
   {
      "cell_type": "code",
      "source": [
        "!sudo apt-get install jq\n",
        "!jq '.metadata.widgets.\"application/vnd.jupyter.widget-state+json\" += {\"state\": {}}' ViT Implementation.ipynb > temp.ipynb && mv temp.ipynb ViT Implementation.ipynb"
      ],
      "metadata": {
        "colab": {
          "base_uri": "https://localhost:8080/"
        },
        "id": "l9WGEPzMFPLY",
        "outputId": "e594d35f-0862-46be-c25b-591d8d2dd467"
      },
      "execution_count": 1,
      "outputs": [
        {
          "output_type": "stream",
          "name": "stdout",
          "text": [
            "Reading package lists... Done\n",
            "Building dependency tree... Done\n",
            "Reading state information... Done\n",
            "jq is already the newest version (1.6-2.1ubuntu3.1).\n",
            "0 upgraded, 0 newly installed, 0 to remove and 35 not upgraded.\n",
            "jq: error: Could not open file ViT: No such file or directory\n",
            "jq: error: Could not open file Implementation.ipynb: No such file or directory\n"
          ]
        }
      ]
    }
  ]
}
      
